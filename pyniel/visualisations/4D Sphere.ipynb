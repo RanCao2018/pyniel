{
 "cells": [
  {
   "cell_type": "code",
   "execution_count": null,
   "metadata": {},
   "outputs": [],
   "source": [
    "import plotly.graph_objs as go\n",
    "from plotly.offline import download_plotlyjs, init_notebook_mode, plot, iplot\n",
    "import numpy as np\n",
    "\n",
    "init_notebook_mode(connected=True)"
   ]
  },
  {
   "cell_type": "code",
   "execution_count": null,
   "metadata": {},
   "outputs": [],
   "source": [
    "eye = [\n",
    "    [1, 0, 0, 0],\n",
    "    [0, 1, 0, 0],\n",
    "    [0, 0, 1, 0],\n",
    "    [0, 0, 0, 1],\n",
    "]"
   ]
  },
  {
   "cell_type": "code",
   "execution_count": null,
   "metadata": {},
   "outputs": [],
   "source": [
    "def rotzt(th):\n",
    "    R = [\n",
    "        [np.cos(th), 0, 0, np.sin(th)],\n",
    "        [0, 1, 0, 0],\n",
    "        [0, 0, 1, 0],\n",
    "        [-np.sin(th), 0, 0, np.cos(th)],\n",
    "    ]\n",
    "    return np.array(R)\n",
    "\n",
    "def rotxt(th):\n",
    "    R = [\n",
    "        [np.cos(th), np.sin(th), 0, 0],\n",
    "        [-np.sin(th), np.cos(th), 0, 0],\n",
    "        [0, 0, 1, 0],\n",
    "        [0, 0, 0, 1],\n",
    "    ]\n",
    "    return np.array(R)\n",
    "\n",
    "def rotxy(th):\n",
    "    R = [\n",
    "        [1, 0, 0, 0],\n",
    "        [0, np.cos(th), np.sin(th), 0],\n",
    "        [0, -np.sin(th), np.cos(th), 0],\n",
    "        [0, 0, 0, 1],\n",
    "    ]\n",
    "    return np.array(R)"
   ]
  },
  {
   "cell_type": "code",
   "execution_count": null,
   "metadata": {},
   "outputs": [],
   "source": [
    "R =  rotxt(np.pi / 2)"
   ]
  },
  {
   "cell_type": "code",
   "execution_count": null,
   "metadata": {},
   "outputs": [],
   "source": [
    "u = np.linspace(0, 2 * np.pi, 100)\n",
    "v = np.linspace(0, np.pi, 100)\n",
    "tGrid, sGrid = np.meshgrid(u, v)\n",
    "\n",
    "t_res = 9\n",
    "t = np.linspace(-1, 1, t_res)\n",
    "t[0] = -0.95\n",
    "t[-1] = 0.95\n",
    "\n",
    "surfaces = []\n",
    "for ti in t:\n",
    "    tt = np.ones(sGrid.shape) * ti\n",
    "    rr = np.sqrt((1 - tt*tt))\n",
    "    xx = rr * np.cos(sGrid+ti) * np.sin(tGrid)  # x = r*cos(s)*sin(t)\n",
    "    yy = rr * np.sin(sGrid+ti) * np.sin(tGrid)  # y = r*sin(s)*sin(t)\n",
    "    zz = rr * np.cos(tGrid)                  # z = r*cos(t)\n",
    "    \n",
    "    xxxx = np.stack((tt,xx,yy,zz), axis=-1)                \n",
    "    zzzz = np.zeros(xxxx.shape)\n",
    "    XXXX = np.stack((xxxx, zzzz, zzzz, zzzz), axis=-1)\n",
    "    tto, xxo, yyo, zzo = (arr.reshape(tt.shape) for arr in np.split(np.matmul(R, XXXX)[...,0], 4, axis=-1))\n",
    "\n",
    "    surface = go.Surface(x=xx, y=yy, z=zz)\n",
    "    surface['surfacecolor'] = tto\n",
    "    surface['cmin']=-1\n",
    "    surface['cmax']=1\n",
    "    surface['visible'] = False\n",
    "    surfaces.append(surface)\n",
    "data = [surf for surf in surfaces]\n",
    "data[int(len(t)/2)]['visible'] = True\n",
    "\n",
    "\n",
    "steps = []\n",
    "for i in range(len(data)):\n",
    "    step = dict(\n",
    "        method = 'restyle',\n",
    "        args = ['visible', [False] * len(data)],\n",
    "        label = str(t[i])\n",
    "    )\n",
    "    step['args'][1][i] = True # Toggle i'th trace to \"visible\"\n",
    "    steps.append(step)\n",
    "    \n",
    "sliders = [dict(\n",
    "    active = np.floor(len(t)/2),\n",
    "    currentvalue = {\"prefix\": \"t dimension: \"},\n",
    "    pad = {\"t\": 10},\n",
    "    steps = steps\n",
    ")]\n",
    "\n",
    "layout = go.Layout(\n",
    "    title='Parametric Plot',\n",
    "    scene=dict(\n",
    "        xaxis=dict(\n",
    "            gridcolor='rgb(255, 255, 255)',\n",
    "            zerolinecolor='rgb(255, 255, 255)',\n",
    "            showbackground=True,\n",
    "            backgroundcolor='rgb(230, 230,230)',\n",
    "            range=[-1.1, 1.1]\n",
    "        ),\n",
    "        yaxis=dict(\n",
    "            gridcolor='rgb(255, 255, 255)',\n",
    "            zerolinecolor='rgb(255, 255, 255)',\n",
    "            showbackground=True,\n",
    "            backgroundcolor='rgb(230, 230,230)',\n",
    "            range=[-1.1, 1.1]\n",
    "        ),\n",
    "        zaxis=dict(\n",
    "            gridcolor='rgb(255, 255, 255)',\n",
    "            zerolinecolor='rgb(255, 255, 255)',\n",
    "            showbackground=True,\n",
    "            backgroundcolor='rgb(230, 230,230)',\n",
    "            range=[-1.1, 1.1]\n",
    "        )\n",
    "    ),\n",
    "    sliders=sliders\n",
    ")\n",
    "\n",
    "fig = go.Figure(data=data, layout=layout)\n",
    "iplot(fig, filename='Colored Hypersphere after 4D rotation')"
   ]
  },
  {
   "cell_type": "code",
   "execution_count": null,
   "metadata": {},
   "outputs": [],
   "source": [
    "R =  np.matmul(rotzt(np.pi / 3), rotxt(np.pi/4))"
   ]
  },
  {
   "cell_type": "code",
   "execution_count": null,
   "metadata": {},
   "outputs": [],
   "source": [
    "R =  np.matmul(rotzt(np.pi / 3), rotxy(np.pi/4))"
   ]
  },
  {
   "cell_type": "code",
   "execution_count": null,
   "metadata": {},
   "outputs": [],
   "source": []
  }
 ],
 "metadata": {
  "kernelspec": {
   "display_name": "Python 3",
   "language": "python",
   "name": "python3"
  },
  "language_info": {
   "codemirror_mode": {
    "name": "ipython",
    "version": 3
   },
   "file_extension": ".py",
   "mimetype": "text/x-python",
   "name": "python",
   "nbconvert_exporter": "python",
   "pygments_lexer": "ipython3",
   "version": "3.5.2"
  }
 },
 "nbformat": 4,
 "nbformat_minor": 2
}
